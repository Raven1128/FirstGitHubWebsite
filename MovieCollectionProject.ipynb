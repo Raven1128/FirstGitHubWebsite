{
  "nbformat": 4,
  "nbformat_minor": 0,
  "metadata": {
    "colab": {
      "provenance": [],
      "authorship_tag": "ABX9TyO/Ly4/tnwY47QDYpmdjNNF",
      "include_colab_link": true
    },
    "kernelspec": {
      "name": "python3",
      "display_name": "Python 3"
    },
    "language_info": {
      "name": "python"
    }
  },
  "cells": [
    {
      "cell_type": "markdown",
      "metadata": {
        "id": "view-in-github",
        "colab_type": "text"
      },
      "source": [
        "<a href=\"https://colab.research.google.com/github/Raven1128/GoogleColabExploration/blob/main/MovieCollectionProject.ipynb\" target=\"_parent\"><img src=\"https://colab.research.google.com/assets/colab-badge.svg\" alt=\"Open In Colab\"/></a>"
      ]
    },
    {
      "cell_type": "markdown",
      "source": [
        "I am attempting to pull movie data  and pull it into google sheets to later track what items I have in my media collection"
      ],
      "metadata": {
        "id": "3xlPOOBNdzCy"
      }
    },
    {
      "cell_type": "markdown",
      "source": [
        "Lets call up python"
      ],
      "metadata": {
        "id": "mt4ZxRE6eEqK"
      }
    },
    {
      "cell_type": "code",
      "execution_count": null,
      "metadata": {
        "id": "VH4mQ7prdvDt"
      },
      "outputs": [],
      "source": [
        "!pip install requests\n"
      ]
    },
    {
      "cell_type": "markdown",
      "source": [
        "Install both gspread and oauth2client to handle Google Sheets and authentication."
      ],
      "metadata": {
        "id": "mthOgQ4vhZTT"
      }
    },
    {
      "cell_type": "code",
      "source": [
        "!pip install gspread oauth2client"
      ],
      "metadata": {
        "id": "juFcMoINhWCt"
      },
      "execution_count": null,
      "outputs": []
    },
    {
      "cell_type": "markdown",
      "source": [
        "Original Code to access Sheets\n",
        "\n",
        "import gspread\n",
        "from oauth2client.service_account import ServiceAccountCredentials\n",
        "import requests\n",
        "\n",
        "# Set up Google Sheets access\n",
        "scope = [\"https://spreadsheets.google.com/feeds\", \"https://www.googleapis.com/auth/drive\"]\n",
        "creds = ServiceAccountCredentials.from_json_keyfile_name('path/to/your/service_account.json', scope)  # Update the path to your JSON key\n",
        "client = gspread.authorize(creds)\n",
        "\n",
        "# Open the Google Sheet by name\n",
        "sheet = client.open(\"Your Google Sheet Name\").sheet1  # Change to your sheet name\n",
        "\n",
        "# Fetch movie titles from the first column\n",
        "movie_titles = sheet.col_values(1)  # Adjust the index for the correct column\n",
        "\n",
        "def fetch_movie_data(movie_title):\n",
        "    api_key = 'YOUR_API_KEY'  # Replace with your TMDb API key\n",
        "    url = f'https://api.themoviedb.org/3/search/movie?api_key={api_key}&query={movie_title}'\n",
        "    \n",
        "    response = requests.get(url)  # Make the API call\n",
        "    if response.status_code == 200:\n",
        "        json_data = response.json()\n",
        "        if json_data['results']:\n",
        "            movie = json_data['results'][0]  # Get the first result\n",
        "            return {\n",
        "                'Title': movie['title'],\n",
        "                'Release Date': movie['release_date'],\n",
        "                'Overview': movie['overview'],\n",
        "                'Rating': movie['vote_average']\n",
        "            }\n",
        "        else:\n",
        "            return {'Error': 'No results found'}\n",
        "    else:\n",
        "        return {'Error': 'Failed to fetch data'}\n",
        "\n",
        "# Loop through movie titles and fetch data\n",
        "for title in movie_titles:\n",
        "    movie_info = fetch_movie_data(title)\n",
        "    print(movie_info)\n"
      ],
      "metadata": {
        "id": "OswzsI7Shrar"
      }
    },
    {
      "cell_type": "markdown",
      "source": [
        "Upload the JSON File to Colab"
      ],
      "metadata": {
        "id": "BJU7vynFqRS5"
      }
    },
    {
      "cell_type": "code",
      "source": [
        "from google.colab import files\n",
        "\n",
        "uploaded = files.upload()"
      ],
      "metadata": {
        "id": "PU99gnkcqTql"
      },
      "execution_count": null,
      "outputs": []
    },
    {
      "cell_type": "code",
      "source": [
        "import gspread\n",
        "from oauth2client.service_account import ServiceAccountCredentials\n",
        "import requests\n",
        "\n",
        "# Set up Google Sheets access\n",
        "scope = [\"https://spreadsheets.google.com/feeds\", \"https://www.googleapis.com/auth/drive\"]\n",
        "creds = ServiceAccountCredentials.from_json_keyfile_name('mediacollection.json', scope)  # Update the path to your JSON key\n",
        "client = gspread.authorize(creds)\n",
        "\n",
        "# Open the Google Sheet by name\n",
        "sheet = client.open(\"Movie Wishlist\").sheet1  # Change to your sheet name\n",
        "\n",
        "# Fetch movie titles from the first column\n",
        "movie_titles = sheet.col_values(1)  # Adjust the index for the correct column\n",
        "release_year= sheet.col_values(2)\n",
        "\n",
        "def fetch_movie_data(movie_title):\n",
        "    api_key = 'adcc8292b1e14368d9bfa75e559450a7'  # Replace with your TMDb API key\n",
        "    url = f'https://api.themoviedb.org/3/search/movie?api_key={api_key}&query={movie_title}&{release_year}'\n",
        "\n",
        "    response = requests.get(url)  # Make the API call\n",
        "    if response.status_code == 200:\n",
        "        json_data = response.json()\n",
        "        if json_data['results']:\n",
        "            movie = json_data['results'][0]  # Get the first result\n",
        "            return {\n",
        "                'Title': movie['title'],\n",
        "                'Release Date': movie['release_date'],\n",
        "                'Overview': movie['overview'],\n",
        "                'Rating': movie['vote_average']\n",
        "            }\n",
        "        else:\n",
        "            return {'Error': 'No results found'}\n",
        "    else:\n",
        "        return {'Error': 'Failed to fetch data'}\n",
        "\n",
        "# Loop through movie titles and fetch data\n",
        "for title in movie_titles:\n",
        "    movie_info = fetch_movie_data(title)\n",
        "    print(movie_info)\n"
      ],
      "metadata": {
        "id": "WF1YZqpRh7Zg"
      },
      "execution_count": null,
      "outputs": []
    },
    {
      "cell_type": "markdown",
      "source": [
        "Writing the API Call Code in order to create a function to fetch movie data from TMDb. Replace YOUR_API_KEY with the API key you obtained from TMDb."
      ],
      "metadata": {
        "id": "34LwJSEmeOJw"
      }
    },
    {
      "cell_type": "markdown",
      "source": [
        "Original code:\n",
        "import requests\n",
        "\n",
        "def fetch_movie_data(movie_title):\n",
        "    api_key = 'YOUR_API_KEY'  # Replace with your TMDb API key\n",
        "    url = f'https://api.themoviedb.org/3/search/movie?api_key={api_key}&query={movie_title}'\n",
        "    \n",
        "    response = requests.get(url)  # Make the API call\n",
        "    if response.status_code == 200:\n",
        "        json_data = response.json()\n",
        "        if json_data['results']:\n",
        "            movie = json_data['results'][0]  # Get the first result\n",
        "            return {\n",
        "                'Title': movie['title'],\n",
        "                'Release Date': movie['release_date'],\n",
        "                'Overview': movie['overview'],\n",
        "                'Rating': movie['vote_average']\n",
        "            }\n",
        "        else:\n",
        "            return {'Error': 'No results found'}\n",
        "    else:\n",
        "        return {'Error': 'Failed to fetch data'}\n",
        "\n",
        "# Example usage\n",
        "movie_info = fetch_movie_data('Inception')\n",
        "print(movie_info)\n"
      ],
      "metadata": {
        "id": "UOjVj-UrekqE"
      }
    },
    {
      "cell_type": "markdown",
      "source": [
        "Search For Movie"
      ],
      "metadata": {
        "id": "M7SNK0FUgIwZ"
      }
    },
    {
      "cell_type": "code",
      "source": [
        "from typing import TypeVar\n",
        "import requests\n",
        "\n",
        "def fetch_movie_data(media_title):\n",
        "    api_key = 'adcc8292b1e14368d9bfa75e559450a7'  # Replace with your TMDb API key\n",
        "    url = f'https://api.themoviedb.org/3/search/movie?api_key={api_key}&query={media_title}'\n",
        "\n",
        "    response = requests.get(url)  # Make the API call\n",
        "    if response.status_code == 200:\n",
        "        json_data = response.json()\n",
        "        if json_data['results']:\n",
        "            movie = json_data['results'][0]  # Get the first result\n",
        "            return {\n",
        "                'Title': movie['title'],\n",
        "                'Release Date': movie['release_date'],\n",
        "                'Overview': movie['overview'],\n",
        "                'Rating': movie['vote_average']\n",
        "            }\n",
        "        else:\n",
        "            return {'Error': 'No results found'}\n",
        "    else:\n",
        "        return {'Error': 'Failed to fetch data'}\n",
        "\n",
        "# Example usage\n",
        "movie_info = fetch_movie_data('Frozen')\n",
        "print(movie_info)\n"
      ],
      "metadata": {
        "colab": {
          "base_uri": "https://localhost:8080/"
        },
        "id": "lw1si91leti1",
        "outputId": "4627844e-5454-49e5-fa96-27e6a0c0db38"
      },
      "execution_count": null,
      "outputs": [
        {
          "output_type": "stream",
          "name": "stdout",
          "text": [
            "{'Title': 'Frozen', 'Release Date': '2013-11-20', 'Overview': \"Young princess Anna of Arendelle dreams about finding true love at her sister Elsa’s coronation. Fate takes her on a dangerous journey in an attempt to end the eternal winter that has fallen over the kingdom. She's accompanied by ice delivery man Kristoff, his reindeer Sven, and snowman Olaf. On an adventure where she will find out what friendship, courage, family, and true love really means.\", 'Rating': 7.245}\n"
          ]
        }
      ]
    }
  ]
}